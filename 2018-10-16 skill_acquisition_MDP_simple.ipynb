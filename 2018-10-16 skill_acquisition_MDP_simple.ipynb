{
 "cells": [
  {
   "cell_type": "markdown",
   "metadata": {},
   "source": [
    "The following code is actually a wrong implementation, I don't actually have an action, so it is only called a markov reward model"
   ]
  },
  {
   "cell_type": "code",
   "execution_count": 1,
   "metadata": {
    "collapsed": true
   },
   "outputs": [],
   "source": [
    "%matplotlib inline"
   ]
  },
  {
   "cell_type": "code",
   "execution_count": 2,
   "metadata": {
    "collapsed": true
   },
   "outputs": [],
   "source": [
    "import numpy as np\n",
    "import random\n",
    "import string\n",
    "import itertools\n",
    "import matplotlib.pyplot as plt"
   ]
  },
  {
   "cell_type": "code",
   "execution_count": 3,
   "metadata": {
    "collapsed": true
   },
   "outputs": [],
   "source": [
    "up = \"j\"\n",
    "right = \"k\"\n",
    "skills = [up, right]\n",
    "reward = 1\n",
    "steps = 5\n",
    "run = 10\n",
    "# for i in range(steps):\n",
    "#     get_key = input(\"try a key out, you still have {} chance(s)\".format(steps - i))\n",
    "#     if get_key == \"j\":\n",
    "#         print(\"good try! You've got one skill\")\n",
    "# TODO: raise exceptions if the input is not lowercase letter "
   ]
  },
  {
   "cell_type": "code",
   "execution_count": 4,
   "metadata": {
    "scrolled": true
   },
   "outputs": [
    {
     "data": {
      "text/plain": [
       "[(0, 0), (0, 1), (1, 0), (1, 1)]"
      ]
     },
     "execution_count": 4,
     "metadata": {},
     "output_type": "execute_result"
    }
   ],
   "source": [
    "state = list(itertools.product(*[(0, 1)] * 2))\n",
    "state"
   ]
  },
  {
   "cell_type": "code",
   "execution_count": 5,
   "metadata": {
    "collapsed": true
   },
   "outputs": [],
   "source": [
    "start_state = (0, 0)\n",
    "final_state = (1, 1)"
   ]
  },
  {
   "cell_type": "code",
   "execution_count": 6,
   "metadata": {
    "collapsed": true
   },
   "outputs": [],
   "source": [
    "state_value = np.zeros(4)"
   ]
  },
  {
   "cell_type": "code",
   "execution_count": null,
   "metadata": {
    "collapsed": true
   },
   "outputs": [],
   "source": [
    "# set the probability of the state transition as a constant\n",
    "# prob = 1/26 \n",
    "# TODO: find out the true transition probability T, which should "
   ]
  },
  {
   "cell_type": "code",
   "execution_count": null,
   "metadata": {
    "collapsed": true
   },
   "outputs": [],
   "source": [
    "# state value intuition\n",
    "# expected returns step 3:\n",
    "# state_value[2] = 23/24*state_value[2] + 1/24*reward\n",
    "# state_value[1] = 23/24*state_value[1] + 1/24*reward\n",
    "# state_value[0] = 22/24*state_value[0] + 1/24*state_value[1] + 1/24*state_value[2]\n",
    "\n",
    "\n",
    "# expected returns step 2:\n",
    "# state_value[2] = 24/25*state_value[2] + 1/25*reward\n",
    "# state_value[1] = 24/25*state_value[1] + 1/25*reward\n",
    "# state_value[0] = 23/25*state_value[0] + 1/25*state_value[1] + 1/25*state_value[2]\n",
    "\n",
    "#expected returns step 1:\n",
    "# state_value[0] = 24/26*state_value[0] + 1/26*state_value[1] + 1/26*state_value[2]"
   ]
  },
  {
   "cell_type": "code",
   "execution_count": null,
   "metadata": {},
   "outputs": [],
   "source": [
    "# state_value"
   ]
  },
  {
   "cell_type": "code",
   "execution_count": 7,
   "metadata": {
    "collapsed": true
   },
   "outputs": [],
   "source": [
    "state_value_batch = []"
   ]
  },
  {
   "cell_type": "code",
   "execution_count": 8,
   "metadata": {
    "collapsed": true
   },
   "outputs": [],
   "source": [
    "state_value = np.zeros(4)\n",
    "state_value_batch.append(state_value)"
   ]
  },
  {
   "cell_type": "code",
   "execution_count": 9,
   "metadata": {},
   "outputs": [
    {
     "name": "stdout",
     "output_type": "stream",
     "text": [
      "[ 0.  0.  0.  0.]\n",
      "[ 0.  0.  0.  0.]\n",
      "[ 0.          0.04166667  0.04166667  0.        ]\n",
      "[ 0.00362319  0.08333333  0.08333333  0.        ]\n",
      "[ 0.01086957  0.125       0.125       0.        ]\n",
      "[ 0.02173913  0.16666667  0.16666667  0.        ]\n",
      "[ 0.03623188  0.20833333  0.20833333  0.        ]\n",
      "[ 0.05434783  0.25        0.25        0.        ]\n",
      "[ 0.07608696  0.29166667  0.29166667  0.        ]\n",
      "[ 0.10144928  0.33333333  0.33333333  0.        ]\n",
      "[ 0.13043478  0.375       0.375       0.        ]\n",
      "[ 0.16304348  0.41666667  0.41666667  0.        ]\n",
      "[ 0.19927536  0.45833333  0.45833333  0.        ]\n",
      "[ 0.23913043  0.5         0.5         0.        ]\n",
      "[ 0.2826087   0.54166667  0.54166667  0.        ]\n",
      "[ 0.32971014  0.58333333  0.58333333  0.        ]\n",
      "[ 0.38043478  0.625       0.625       0.        ]\n",
      "[ 0.43478261  0.66666667  0.66666667  0.        ]\n",
      "[ 0.49275362  0.70833333  0.70833333  0.        ]\n",
      "[ 0.55434783  0.75        0.75        0.        ]\n",
      "[ 0.61956522  0.79166667  0.79166667  0.        ]\n",
      "[ 0.6884058   0.83333333  0.83333333  0.        ]\n",
      "[ 0.76086957  0.875       0.875       0.        ]\n",
      "[ 0.83695652  0.91666667  0.91666667  0.        ]\n",
      "[ 0.91666667  0.95833333  0.95833333  0.        ]\n"
     ]
    }
   ],
   "source": [
    "# state value without pseudo rewards\n",
    "k = 26\n",
    "for i in range(25):\n",
    "    new_state_value = state_value.copy()\n",
    "    new_state_value[0] = ((k-2)/k)*new_state_value[0] + (1/k)*new_state_value[1] + (1/k)*new_state_value[2]\n",
    "    \n",
    "    if i > 1:\n",
    "        new_state_value[1] = ((k-1)/k)*new_state_value[1] + (1/k)*reward\n",
    "        new_state_value[2] = ((k-1)/k)*new_state_value[2] + (1/k)*reward\n",
    "        \n",
    "        if np.sum(np.abs(new_state_value - state_value)) < 1e-4:\n",
    "            state_value = new_state_value.copy()\n",
    "            break      \n",
    "    \n",
    "    state_value = new_state_value.copy()\n",
    "    print(state_value)\n",
    "    state_value_batch.append(state_value)\n",
    "    k -= 1"
   ]
  },
  {
   "cell_type": "code",
   "execution_count": 10,
   "metadata": {
    "scrolled": false
   },
   "outputs": [
    {
     "data": {
      "text/plain": [
       "26"
      ]
     },
     "execution_count": 10,
     "metadata": {},
     "output_type": "execute_result"
    }
   ],
   "source": [
    "len(state_value_batch)"
   ]
  },
  {
   "cell_type": "code",
   "execution_count": 11,
   "metadata": {},
   "outputs": [
    {
     "data": {
      "text/plain": [
       "array([ 0.91666667,  0.95833333,  0.95833333,  0.        ])"
      ]
     },
     "execution_count": 11,
     "metadata": {},
     "output_type": "execute_result"
    }
   ],
   "source": [
    "optimal_state_value = state_value\n",
    "optimal_state_value"
   ]
  },
  {
   "cell_type": "code",
   "execution_count": 12,
   "metadata": {
    "collapsed": true
   },
   "outputs": [],
   "source": [
    "state_value_pseudo_batch = []\n",
    "state_value_pseudo = np.zeros(4)\n",
    "state_value_pseudo_batch.append(state_value_pseudo)"
   ]
  },
  {
   "cell_type": "code",
   "execution_count": 13,
   "metadata": {},
   "outputs": [
    {
     "name": "stdout",
     "output_type": "stream",
     "text": [
      "[ 0.00320513  0.          0.          0.        ]\n",
      "[ 0.00628205  0.          0.          0.        ]\n",
      "[ 0.00923077  0.00173611  0.00173611  0.        ]\n",
      "[ 0.01220225  0.00347222  0.00347222  0.        ]\n",
      "[ 0.01519649  0.00520833  0.00520833  0.        ]\n",
      "[ 0.01821349  0.00694444  0.00694444  0.        ]\n",
      "[ 0.02125325  0.00868056  0.00868056  0.        ]\n",
      "[ 0.02431577  0.01041667  0.01041667  0.        ]\n",
      "[ 0.02740106  0.01215278  0.01215278  0.        ]\n",
      "[ 0.0305091   0.01388889  0.01388889  0.        ]\n",
      "[ 0.03363991  0.015625    0.015625    0.        ]\n",
      "[ 0.03679348  0.01736111  0.01736111  0.        ]\n",
      "[ 0.03996981  0.01909722  0.01909722  0.        ]\n",
      "[ 0.0431689   0.02083333  0.02083333  0.        ]\n",
      "[ 0.04639075  0.02256944  0.02256944  0.        ]\n",
      "[ 0.04963536  0.02430556  0.02430556  0.        ]\n",
      "[ 0.05290273  0.02604167  0.02604167  0.        ]\n",
      "[ 0.05619287  0.02777778  0.02777778  0.        ]\n",
      "[ 0.05950576  0.02951389  0.02951389  0.        ]\n",
      "[ 0.06284142  0.03125     0.03125     0.        ]\n",
      "[ 0.06619983  0.03298611  0.03298611  0.        ]\n",
      "[ 0.06958101  0.03472222  0.03472222  0.        ]\n",
      "[ 0.07298495  0.03645833  0.03645833  0.        ]\n",
      "[ 0.07641165  0.03819444  0.03819444  0.        ]\n",
      "[ 0.07986111  0.03993056  0.03993056  0.        ]\n"
     ]
    }
   ],
   "source": [
    "# state value with pseudo rewards\n",
    "psi = optimal_state_value.copy()\n",
    "k = 26\n",
    "for i in range(25):\n",
    "    new_state_value = state_value_pseudo.copy()\n",
    "    new_state_value[0] = ((k-2)/k)*(new_state_value[0]) + \\\n",
    "                        (1/k)*(optimal_state_value[1] - optimal_state_value[0] + new_state_value[1]) + \\\n",
    "                        (1/k)*(optimal_state_value[2] - optimal_state_value[0] + new_state_value[2])\n",
    "    \n",
    "    if i > 1:\n",
    "        new_state_value[1] = ((k-1)/k)*new_state_value[1] + (1/k)*(optimal_state_value[3] - optimal_state_value[1] + reward)\n",
    "        new_state_value[2] = ((k-1)/k)*new_state_value[2] + (1/k)*(optimal_state_value[3] - optimal_state_value[2] + reward)\n",
    "        \n",
    "        if np.sum(np.abs(new_state_value - state_value_pseudo)) < 1e-4:\n",
    "            state_value_pseudo = new_state_value.copy()\n",
    "            break      \n",
    "    \n",
    "    state_value_pseudo = new_state_value.copy()\n",
    "    print(state_value_pseudo)\n",
    "    state_value_pseudo_batch.append(state_value_pseudo)\n",
    "    k -= 1"
   ]
  },
  {
   "cell_type": "markdown",
   "metadata": {},
   "source": [
    "### visualization"
   ]
  },
  {
   "cell_type": "code",
   "execution_count": 14,
   "metadata": {},
   "outputs": [
    {
     "data": {
      "text/plain": [
       "<matplotlib.legend.Legend at 0x124ea9f1e10>"
      ]
     },
     "execution_count": 14,
     "metadata": {},
     "output_type": "execute_result"
    },
    {
     "data": {
      "image/png": "[encoded data removed]",
      "text/plain": [
       "<matplotlib.figure.Figure at 0x124ea963dd8>"
      ]
     },
     "metadata": {},
     "output_type": "display_data"
    }
   ],
   "source": [
    "# state value without pseudo rewards\n",
    "fig, ax = plt.subplots()\n",
    "x = len(state_value_batch)\n",
    "y1, y2, y3 = [], [], []\n",
    "for i in range(x):\n",
    "    y1.append(state_value_batch[i][0])\n",
    "    y2.append(state_value_batch[i][1])\n",
    "    y3.append(state_value_batch[i][2])\n",
    "    \n",
    "ax.plot(y1, label='state1')\n",
    "ax.plot(y2, label='state2')\n",
    "ax.plot(y3, label='state3')\n",
    "ax.legend()"
   ]
  },
  {
   "cell_type": "code",
   "execution_count": 15,
   "metadata": {},
   "outputs": [
    {
     "data": {
      "text/plain": [
       "<matplotlib.legend.Legend at 0x124eaaf8940>"
      ]
     },
     "execution_count": 15,
     "metadata": {},
     "output_type": "execute_result"
    },
    {
     "data": {
      "image/png": "[encoded data removed]",
      "text/plain": [
       "<matplotlib.figure.Figure at 0x124eaa3abe0>"
      ]
     },
     "metadata": {},
     "output_type": "display_data"
    }
   ],
   "source": [
    "# state value with pseudo rewards\n",
    "fig, ax = plt.subplots()\n",
    "x = len(state_value_pseudo_batch)\n",
    "y1, y2, y3 = [], [], []\n",
    "for i in range(x):\n",
    "    y1.append(state_value_pseudo_batch[i][0])\n",
    "    y2.append(state_value_pseudo_batch[i][1])\n",
    "    y3.append(state_value_pseudo_batch[i][2])\n",
    "    \n",
    "ax.plot(y1, label='state1')\n",
    "ax.plot(y2, label='state2')\n",
    "ax.plot(y3, label='state3')\n",
    "ax.legend()"
   ]
  },
  {
   "cell_type": "code",
   "execution_count": 16,
   "metadata": {},
   "outputs": [
    {
     "data": {
      "text/plain": [
       "<matplotlib.legend.Legend at 0x124eabdd898>"
      ]
     },
     "execution_count": 16,
     "metadata": {},
     "output_type": "execute_result"
    },
    {
     "data": {
      "image/png": "[encoded data removed]",
      "text/plain": [
       "<matplotlib.figure.Figure at 0x124eaab6320>"
      ]
     },
     "metadata": {},
     "output_type": "display_data"
    }
   ],
   "source": [
    "# combined state value with and without pseudo rewards\n",
    "fig, ax = plt.subplots()\n",
    "x_pseudo= len(state_value_pseudo_batch)\n",
    "x = len(state_value_batch)\n",
    "y1, y2, y3, y4, y5, y6 = [], [], [], [], [], []\n",
    "for i in range(x_pseudo):\n",
    "    y1.append(state_value_pseudo_batch[i][0])\n",
    "    y2.append(state_value_pseudo_batch[i][1])\n",
    "    y3.append(state_value_pseudo_batch[i][2])\n",
    "for j in range(x):\n",
    "    y4.append(state_value_batch[j][0])\n",
    "    y5.append(state_value_batch[j][1])\n",
    "    y6.append(state_value_batch[j][2])\n",
    "    \n",
    "ax.plot(y1, label='state1 pseudo')\n",
    "ax.plot(y2, label='state2 pseudo')\n",
    "ax.plot(y3, label='state3 pseudo')\n",
    "ax.plot(y4, label='state1')\n",
    "ax.plot(y5, label='state2')\n",
    "ax.plot(y6, label='state3')\n",
    "ax.legend()"
   ]
  },
  {
   "cell_type": "code",
   "execution_count": null,
   "metadata": {
    "collapsed": true
   },
   "outputs": [],
   "source": []
  }
 ],
 "metadata": {
  "kernelspec": {
   "display_name": "Python 3",
   "language": "python",
   "name": "python3"
  },
  "language_info": {
   "codemirror_mode": {
    "name": "ipython",
    "version": 3
   },
   "file_extension": ".py",
   "mimetype": "text/x-python",
   "name": "python",
   "nbconvert_exporter": "python",
   "pygments_lexer": "ipython3",
   "version": "3.6.1"
  }
 },
 "nbformat": 4,
 "nbformat_minor": 2
}
