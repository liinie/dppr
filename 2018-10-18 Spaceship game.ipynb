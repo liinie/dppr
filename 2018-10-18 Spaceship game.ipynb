{
 "cells": [
  {
   "cell_type": "code",
   "execution_count": 1,
   "metadata": {
    "collapsed": true
   },
   "outputs": [],
   "source": [
    "%matplotlib inline "
   ]
  },
  {
   "cell_type": "code",
   "execution_count": 2,
   "metadata": {
    "collapsed": true
   },
   "outputs": [],
   "source": [
    "import numpy as np\n",
    "import matplotlib.pyplot as plt\n",
    "from matplotlib.table import table"
   ]
  },
  {
   "cell_type": "markdown",
   "metadata": {},
   "source": [
    "### game setup"
   ]
  },
  {
   "cell_type": "code",
   "execution_count": 3,
   "metadata": {},
   "outputs": [
    {
     "data": {
      "text/plain": [
       "<matplotlib.image.AxesImage at 0x200ebe8b828>"
      ]
     },
     "execution_count": 3,
     "metadata": {},
     "output_type": "execute_result"
    },
    {
     "data": {
      "image/png": "[encoded data removed]",
      "text/plain": [
       "<matplotlib.figure.Figure at 0x200ebde69e8>"
      ]
     },
     "metadata": {},
     "output_type": "display_data"
    }
   ],
   "source": [
    "actions = [(0, 1), (-1, 0)] # key \"e\" for action (0, 1) right, key \"t\" for action (-1, 0) up\n",
    "MAX_X = 6\n",
    "MAX_Y = 6\n",
    "states = ((x, y) for x in range(MAX_X) for y in range(MAX_Y))\n",
    "steps = 10\n",
    "finite_state = (2, 3)\n",
    "start_state = (5, 1)\n",
    "env = np.zeros((6, 6))\n",
    "env[start_state] = 1\n",
    "env[finite_state] = 2\n",
    "plt.imshow(env)"
   ]
  },
  {
   "cell_type": "markdown",
   "metadata": {},
   "source": [
    "### Tutorial for the game"
   ]
  },
  {
   "cell_type": "code",
   "execution_count": 4,
   "metadata": {},
   "outputs": [
    {
     "name": "stdout",
     "output_type": "stream",
     "text": [
      "try to type a key from [a-z] to find out how to control the app, you have 10 chances to move your spaceship!\n"
     ]
    }
   ],
   "source": [
    "print(\"try to type a key from [a-z] to find out how to control the app, you have 10 chances to move your spaceship!\")"
   ]
  },
  {
   "cell_type": "code",
   "execution_count": 5,
   "metadata": {
    "collapsed": true
   },
   "outputs": [],
   "source": [
    "def done(cur_state):\n",
    "    if cur_state == np.array(finite_state).tolist():\n",
    "        return True"
   ]
  },
  {
   "cell_type": "code",
   "execution_count": 6,
   "metadata": {},
   "outputs": [],
   "source": [
    "# get the next state based on the given currrent state and action, if the next state is out of boundary, it will stay in\n",
    "# the current station\n",
    "def step(cur_state, action):\n",
    "    next_state = (np.array(cur_state) + np.array(action)).tolist()\n",
    "    if next_state[0] < 0 or next_state[0] > (MAX_X - 1) or next_state[1] < 0 or next_state[1] > (MAX_Y - 1):\n",
    "        next_state = cur_state    \n",
    "    return next_state"
   ]
  },
  {
   "cell_type": "code",
   "execution_count": 7,
   "metadata": {
    "scrolled": false
   },
   "outputs": [
    {
     "name": "stdout",
     "output_type": "stream",
     "text": [
      "[[ 0.  0.  0.  0.  0.  0.]\n",
      " [ 0.  0.  0.  0.  0.  0.]\n",
      " [ 0.  0.  0.  2.  0.  0.]\n",
      " [ 0.  0.  0.  0.  0.  0.]\n",
      " [ 0.  0.  0.  0.  0.  0.]\n",
      " [ 0.  1.  0.  0.  0.  0.]]\n",
      "try one key out!e\n",
      "you got the skill to move your space ship up\n",
      "[4, 1]\n",
      "[[ 0.  0.  0.  0.  0.  0.]\n",
      " [ 0.  0.  0.  0.  0.  0.]\n",
      " [ 0.  0.  0.  2.  0.  0.]\n",
      " [ 0.  0.  0.  0.  0.  0.]\n",
      " [ 0.  1.  0.  0.  0.  0.]\n",
      " [ 0.  1.  0.  0.  0.  0.]]\n",
      "try one key out!e\n",
      "you got the skill to move your space ship up\n",
      "[3, 1]\n",
      "[[ 0.  0.  0.  0.  0.  0.]\n",
      " [ 0.  0.  0.  0.  0.  0.]\n",
      " [ 0.  0.  0.  2.  0.  0.]\n",
      " [ 0.  1.  0.  0.  0.  0.]\n",
      " [ 0.  1.  0.  0.  0.  0.]\n",
      " [ 0.  1.  0.  0.  0.  0.]]\n",
      "try one key out!e\n",
      "you got the skill to move your space ship up\n",
      "[2, 1]\n",
      "[[ 0.  0.  0.  0.  0.  0.]\n",
      " [ 0.  0.  0.  0.  0.  0.]\n",
      " [ 0.  1.  0.  2.  0.  0.]\n",
      " [ 0.  1.  0.  0.  0.  0.]\n",
      " [ 0.  1.  0.  0.  0.  0.]\n",
      " [ 0.  1.  0.  0.  0.  0.]]\n",
      "try one key out!t\n",
      "you got the skill to move your space ship to the right\n",
      "[[ 0.  0.  0.  0.  0.  0.]\n",
      " [ 0.  0.  0.  0.  0.  0.]\n",
      " [ 0.  1.  1.  2.  0.  0.]\n",
      " [ 0.  1.  0.  0.  0.  0.]\n",
      " [ 0.  1.  0.  0.  0.  0.]\n",
      " [ 0.  1.  0.  0.  0.  0.]]\n",
      "try one key out!t\n",
      "you got the skill to move your space ship to the right\n",
      "well done, you made it!\n"
     ]
    },
    {
     "data": {
      "image/png": "[encoded data removed]",
      "text/plain": [
       "<matplotlib.figure.Figure at 0x200ebed39e8>"
      ]
     },
     "metadata": {},
     "output_type": "display_data"
    }
   ],
   "source": [
    "cur_state = start_state\n",
    "state_traces = []\n",
    "# state_traces.append(cur_state)\n",
    "env_update = env.copy()\n",
    "print(env_update)\n",
    "for i in range(steps):\n",
    "    trial = str(input(\"try one key out!\"))\n",
    "\n",
    "    if trial.islower():\n",
    "\n",
    "        if trial == \"e\":\n",
    "            print(\"you got the skill to move your space ship up\")\n",
    "            new_state = step(cur_state, actions[1]) \n",
    "            cur_state = new_state   \n",
    "            print(cur_state)\n",
    "            env_update[cur_state[0], cur_state[1]] = 1\n",
    "            env = env_update.copy()\n",
    "#             state_traces.append(cur_state)\n",
    "#             print(f\"you still have {steps - i - 1} step(s) left\")\n",
    "            plt.imshow(env)\n",
    "            if done(cur_state):\n",
    "                print(\"well done, you made it!\")\n",
    "                break\n",
    "            print(env)\n",
    "\n",
    "        elif trial == \"t\":\n",
    "            print(\"you got the skill to move your space ship to the right\")\n",
    "            new_state = step(cur_state, actions[0])\n",
    "            cur_state = new_state\n",
    "            env_update[cur_state[0], cur_state[1]] = 1\n",
    "            env = env_update.copy()\n",
    "#             state_traces.append(cur_state)\n",
    "#             print(f\"you still have {steps - i - 1} step(s) left\")\n",
    "            plt.imshow(env)\n",
    "            if done(cur_state):\n",
    "                print(\"well done, you made it!\")\n",
    "                break\n",
    "            print(env)\n",
    "            \n",
    "        else:\n",
    "            print(f\"error! you still have {steps - i -1} step(s) left\")\n",
    "\n",
    "    else:\n",
    "        raise ValueError"
   ]
  },
  {
   "cell_type": "markdown",
   "metadata": {},
   "source": [
    "## the game"
   ]
  },
  {
   "cell_type": "markdown",
   "metadata": {},
   "source": [
    "### choosing task"
   ]
  },
  {
   "cell_type": "code",
   "execution_count": 8,
   "metadata": {
    "scrolled": true
   },
   "outputs": [
    {
     "name": "stdout",
     "output_type": "stream",
     "text": [
      "Do you want to try another skill or use mastered skill?y\n"
     ]
    }
   ],
   "source": [
    "inpt = input(\"Do you want to try another skill or use mastered skill?[y/n]\")"
   ]
  },
  {
   "cell_type": "code",
   "execution_count": 9,
   "metadata": {},
   "outputs": [
    {
     "name": "stdout",
     "output_type": "stream",
     "text": [
      "cool! you will get reward for your choice\n"
     ]
    }
   ],
   "source": [
    "if inpt == \"y\": # you are choosing to learn a new skill\n",
    "    print(\"cool! you will get reward for your choice\")\n",
    "    # do things with new skill\n",
    "    # block the mastered skill\n",
    "elif inpt == \"n\": # you are choosing to use the mastered skill\n",
    "    print(\"pity, but you will still get a little reward for your choice\")\n",
    "    # try things with old skill\n",
    "else:\n",
    "    raise ValueError"
   ]
  },
  {
   "cell_type": "code",
   "execution_count": null,
   "metadata": {},
   "outputs": [],
   "source": [
    "import numpy as np\n",
    "import matplotlib.pyplot as plt\n",
    "from matplotlib.table import table\n",
    "\n",
    "fig, ax = plt.subplots()\n",
    "\n",
    "stats_table = table(ax, cellText=np.random.randint(1,9,(5,2)),\n",
    "                  rowLabels=list(\"ABCDE\"),\n",
    "                  colLabels=list(\"PU\"),\n",
    "                  bbox = [0.1, 0, 0.9, 0.9])\n",
    "\n",
    "for key, cell in stats_table.get_celld().items():\n",
    "    cell.set_linewidth(2)\n",
    "    cell.set_edgecolor(\"b\")\n",
    "    cell.set_facecolor(\"cyan\")\n",
    "\n",
    "plt.show()"
   ]
  },
  {
   "cell_type": "code",
   "execution_count": null,
   "metadata": {},
   "outputs": [],
   "source": [
    "Z = np.zeros((8,8),dtype=int)\n",
    "Z[1::2,::2] = 1\n",
    "Z[::2,1::2] = 1\n",
    "plt.imshow(Z)"
   ]
  },
  {
   "cell_type": "code",
   "execution_count": null,
   "metadata": {},
   "outputs": [],
   "source": [
    "(np.array((5, 1)) + np.array((2, 3))).tolist()"
   ]
  },
  {
   "cell_type": "code",
   "execution_count": null,
   "metadata": {
    "collapsed": true
   },
   "outputs": [],
   "source": []
  }
 ],
 "metadata": {
  "kernelspec": {
   "display_name": "Python 3",
   "language": "python",
   "name": "python3"
  },
  "language_info": {
   "codemirror_mode": {
    "name": "ipython",
    "version": 3
   },
   "file_extension": ".py",
   "mimetype": "text/x-python",
   "name": "python",
   "nbconvert_exporter": "python",
   "pygments_lexer": "ipython3",
   "version": "3.6.1"
  }
 },
 "nbformat": 4,
 "nbformat_minor": 2
}
