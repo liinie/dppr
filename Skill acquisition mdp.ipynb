{
 "cells": [
  {
   "cell_type": "code",
   "execution_count": 81,
   "metadata": {
    "collapsed": true
   },
   "outputs": [],
   "source": [
    "import numpy as np"
   ]
  },
  {
   "cell_type": "code",
   "execution_count": 89,
   "metadata": {
    "collapsed": true
   },
   "outputs": [],
   "source": [
    "states = list((x, y) for x in [0, 1] for y in [0, 1])\n",
    "actions = [\"ms\", \"nms\"] # ms: mastered skills, nms: not mastered skills\n",
    "ACTION_PROB = 0.5 # TODO: still not sure what is the ACTION_PROB\n",
    "# STATE_PROB = 0.5 # TODO: have to figure out what is exactly the STATE_PROB\n",
    "reward_ms = 1\n",
    "reward_nms = 10"
   ]
  },
  {
   "cell_type": "code",
   "execution_count": 83,
   "metadata": {},
   "outputs": [
    {
     "data": {
      "text/plain": [
       "[(0, 0), (0, 1), (1, 0), (1, 1)]"
      ]
     },
     "execution_count": 83,
     "metadata": {},
     "output_type": "execute_result"
    }
   ],
   "source": [
    "states"
   ]
  },
  {
   "cell_type": "code",
   "execution_count": 84,
   "metadata": {
    "collapsed": true
   },
   "outputs": [],
   "source": [
    "def start_state(state):\n",
    "    x, y = state\n",
    "    if x == 0 and y == 0:\n",
    "        return True"
   ]
  },
  {
   "cell_type": "code",
   "execution_count": 85,
   "metadata": {
    "collapsed": true
   },
   "outputs": [],
   "source": [
    "def acquire_one_skill(state):\n",
    "    x, y = state\n",
    "    if (x == 0 and y == 1) or (x == 1 and y == 0):\n",
    "        return True"
   ]
  },
  {
   "cell_type": "code",
   "execution_count": 86,
   "metadata": {
    "collapsed": true
   },
   "outputs": [],
   "source": [
    "def is_terminal(state):\n",
    "    x, y = state\n",
    "    if (x == 1 and y == 1):\n",
    "        return True"
   ]
  },
  {
   "cell_type": "code",
   "execution_count": 87,
   "metadata": {
    "collapsed": true
   },
   "outputs": [],
   "source": [
    "def step(state, action):\n",
    "    if action == \"ms\":\n",
    "        reward = reward_ms\n",
    "        next_states = [(state)]\n",
    "    else:\n",
    "        if start_state(state):\n",
    "            next_states = [(0, 1), (1, 0)]\n",
    "            reward = reward_nms\n",
    "        elif acquire_one_skill(state):\n",
    "            next_states = [(1, 1)]\n",
    "            reward = reward_nms\n",
    "    return next_states, reward\n",
    "        "
   ]
  },
  {
   "cell_type": "code",
   "execution_count": 88,
   "metadata": {
    "collapsed": true
   },
   "outputs": [],
   "source": [
    "def expected_returns():\n",
    "    state_value = np.zeros((2, 2))\n",
    "    new_state_value = state_value.copy()\n",
    "    \n",
    "    iteration = 1\n",
    "    \n",
    "    state_value_iterations = []\n",
    "    state_value_iterations.append(state_value)\n",
    "    while True:\n",
    "        for i, j in states:\n",
    "            if is_terminal([i, j]):\n",
    "                continue\n",
    "            new_state_value[i, j] = 0\n",
    "            \n",
    "            for action in actions:\n",
    "                next_states, reward = step((i, j), action)\n",
    "                for next_i, next_j in next_states:\n",
    "                    new_state_value[i, j] += ACTION_PROB*(1/len(next_states))*(reward + new_state_value[next_i, next_j])\n",
    "        \n",
    "        if np.sum(np.abs(new_state_value - state_value)) < 1e-4:\n",
    "            state_value = new_state_value.copy()\n",
    "            break\n",
    "        \n",
    "        state_value = new_state_value.copy()\n",
    "        state_value_iterations.append(state_value)\n",
    "        iteration += 1\n",
    "    \n",
    "    return state_value, iteration, state_value_iterations               "
   ]
  },
  {
   "cell_type": "code",
   "execution_count": 80,
   "metadata": {},
   "outputs": [
    {
     "data": {
      "text/plain": [
       "array([[ 8.25,  5.5 ],\n",
       "       [ 5.5 ,  0.  ]])"
      ]
     },
     "execution_count": 80,
     "metadata": {},
     "output_type": "execute_result"
    }
   ],
   "source": [
    "state_value, iteration, state_value_iterations = expected_returns()\n",
    "state_value"
   ]
  },
  {
   "cell_type": "code",
   "execution_count": null,
   "metadata": {
    "collapsed": true
   },
   "outputs": [],
   "source": []
  }
 ],
 "metadata": {
  "kernelspec": {
   "display_name": "Python 3",
   "language": "python",
   "name": "python3"
  },
  "language_info": {
   "codemirror_mode": {
    "name": "ipython",
    "version": 3
   },
   "file_extension": ".py",
   "mimetype": "text/x-python",
   "name": "python",
   "nbconvert_exporter": "python",
   "pygments_lexer": "ipython3",
   "version": "3.6.1"
  }
 },
 "nbformat": 4,
 "nbformat_minor": 2
}
