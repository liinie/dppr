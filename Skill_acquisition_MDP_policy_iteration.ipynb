{
 "cells": [
  {
   "cell_type": "code",
   "execution_count": 1,
   "metadata": {
    "collapsed": true
   },
   "outputs": [],
   "source": [
    "import numpy as np\n",
    "import matplotlib.pyplot as plt"
   ]
  },
  {
   "cell_type": "code",
   "execution_count": 2,
   "metadata": {
    "collapsed": true
   },
   "outputs": [],
   "source": [
    "states = list((x, y) for x in [0, 1] for y in [0, 1])\n",
    "actions = [\"ms\", \"nms1\", \"nms2\"] # ms: mastered skills, nms1: not mastered skill 1, nms2: not mastered skill 2\n",
    "# ACTION_PROB = 0.5 # TODO: still not sure what is the ACTION_PROB\n",
    "# STATE_PROB = 0.5 # TODO: have to figure out what is exactly the STATE_PROB\n",
    "\n",
    "reward_ms = 1\n",
    "reward_nms1_imediate = 5\n",
    "reward_nms2_imediate = 5\n",
    "reward_nms1_determine = 10\n",
    "reward_nms2_determine = 10"
   ]
  },
  {
   "cell_type": "code",
   "execution_count": 3,
   "metadata": {
    "collapsed": true
   },
   "outputs": [],
   "source": [
    "def start_state(state):\n",
    "    x, y = state\n",
    "    if x == 0 and y == 0:\n",
    "        return True"
   ]
  },
  {
   "cell_type": "code",
   "execution_count": 4,
   "metadata": {
    "collapsed": true
   },
   "outputs": [],
   "source": [
    "def acquired_first_skill(state):\n",
    "    x, y = state\n",
    "    if (x == 1 and y == 0):\n",
    "        return True"
   ]
  },
  {
   "cell_type": "code",
   "execution_count": 5,
   "metadata": {
    "collapsed": true
   },
   "outputs": [],
   "source": [
    "def acquired_second_skill(state):\n",
    "    x, y = state\n",
    "    if (x == 0 and y == 1):\n",
    "        return True"
   ]
  },
  {
   "cell_type": "code",
   "execution_count": 6,
   "metadata": {
    "collapsed": true
   },
   "outputs": [],
   "source": [
    "def is_terminal(state):\n",
    "    x, y = state\n",
    "    if (x == 1 and y == 1):\n",
    "        return True"
   ]
  },
  {
   "cell_type": "code",
   "execution_count": 7,
   "metadata": {
    "collapsed": true
   },
   "outputs": [],
   "source": [
    "def step(state, action):\n",
    "    if action == \"ms\":\n",
    "        reward = reward_ms\n",
    "        next_state = (state)\n",
    "        \n",
    "    elif action == \"nms1\" and start_state(state):\n",
    "        reward = reward_nms1_imediate\n",
    "        next_state = (1, 0)\n",
    "            \n",
    "    elif action == \"nms2\" and start_state(state):\n",
    "        reward = reward_nms2_imediate\n",
    "        next_state = (0, 1)\n",
    "    \n",
    "    elif acquired_first_skill(state):\n",
    "        reward = reward_nms2_determine\n",
    "        next_state = (1, 1)\n",
    "        \n",
    "    elif acquired_second_skill(state):\n",
    "        reward = reward_nms1_determine\n",
    "        next_state = (1, 1)\n",
    "            \n",
    "    else: \n",
    "        raise ValueError\n",
    "        \n",
    "            \n",
    "    return next_state, reward"
   ]
  },
  {
   "cell_type": "code",
   "execution_count": 8,
   "metadata": {
    "collapsed": true
   },
   "outputs": [],
   "source": [
    "def expected_returns(state, action, state_value):\n",
    "    i, j = state\n",
    "    new_state_value = state_value.copy()\n",
    "    (next_i, next_j), reward = step(state, actions[action])\n",
    "    new_state_value[i, j] = reward + new_state_value[next_i, next_j]\n",
    "    return new_state_value[i, j]      "
   ]
  },
  {
   "cell_type": "code",
   "execution_count": 9,
   "metadata": {
    "collapsed": true
   },
   "outputs": [],
   "source": [
    "policy = np.zeros((len(states), len(actions)))\n",
    "                  \n",
    "for i in range(len(states)):                \n",
    "                  \n",
    "    if start_state(states[i]):\n",
    "        for action, act_prob in enumerate(policy[i]):\n",
    "            policy[i][action] = 1/3\n",
    "    if states[i] == (1, 0):\n",
    "        policy[i][0] = 1/2\n",
    "        policy[i][2] = 1/2\n",
    "    if states[i] == (0, 1):\n",
    "        policy[i][0] = 1/2\n",
    "        policy[i][1] = 1/2"
   ]
  },
  {
   "cell_type": "code",
   "execution_count": 10,
   "metadata": {
    "collapsed": true
   },
   "outputs": [],
   "source": [
    "def policy_evaluation(policy):\n",
    "    state_value = np.zeros((2, 2))\n",
    "    new_state_value = state_value.copy()\n",
    "    \n",
    "    iteration = 1\n",
    "    \n",
    "#     state_value_iterations = []\n",
    "#     state_value_iterations.append(state_value)\n",
    "    \n",
    "    while True:\n",
    "        for i in range(len(states)):\n",
    "            \n",
    "            if is_terminal(states[i]):\n",
    "                continue\n",
    "                \n",
    "            new_state_value[states[i]] = 0\n",
    "            \n",
    "            for action, action_prob in enumerate(policy[i]):\n",
    "                (next_i, next_j), reward = step(states[i], actions[action])\n",
    "                new_state_value[states[i]] += action_prob*(reward + new_state_value[next_i, next_j])\n",
    "        \n",
    "        value_change = np.sum(np.abs(state_value - new_state_value))\n",
    "        print(\"value_change in: {}\".format(value_change))\n",
    "        if value_change < 1e-4:\n",
    "            state_value = new_state_value.copy()\n",
    "            break\n",
    "        \n",
    "        \n",
    "        state_value = new_state_value.copy()\n",
    "#         state_value_iterations.append(state_value)\n",
    "        iteration += 1\n",
    "    \n",
    "    return state_value    "
   ]
  },
  {
   "cell_type": "code",
   "execution_count": 11,
   "metadata": {},
   "outputs": [
    {
     "name": "stdout",
     "output_type": "stream",
     "text": [
      "value_change in: 14.666666666666666\n",
      "value_change in: 3.666666666666668\n",
      "value_change in: 0.0\n"
     ]
    },
    {
     "data": {
      "text/plain": [
       "array([[7.33333333, 5.5       ],\n",
       "       [5.5       , 0.        ]])"
      ]
     },
     "execution_count": 11,
     "metadata": {},
     "output_type": "execute_result"
    }
   ],
   "source": [
    "state_value= policy_evaluation(policy)\n",
    "state_value"
   ]
  },
  {
   "cell_type": "code",
   "execution_count": 12,
   "metadata": {
    "collapsed": true
   },
   "outputs": [],
   "source": [
    "def policy_iteration():\n",
    "    # inital random policy\n",
    "    policy = np.zeros((len(states), len(actions)))\n",
    "                  \n",
    "    for i in range(len(states)):                \n",
    "\n",
    "        if start_state(states[i]):\n",
    "            for action, act_prob in enumerate(policy[i]):\n",
    "                policy[i][action] = 1/3\n",
    "        if states[i] == (1, 0):\n",
    "            policy[i][0] = 1/2\n",
    "            policy[i][2] = 1/2\n",
    "        if states[i] == (0, 1):\n",
    "            policy[i][0] = 1/2\n",
    "            policy[i][1] = 1/2\n",
    "            \n",
    "    while True:\n",
    "    \n",
    "        policy_stable = True\n",
    "\n",
    "        state_value = policy_evaluation(policy)\n",
    "        \n",
    "        policy_change_count = 0\n",
    "        for i in range(len(states)):\n",
    "            if is_terminal(states[i]):\n",
    "                continue\n",
    "            chosen_a = np.argmax(policy[i])\n",
    "            action_returns = []\n",
    "            for action, act_prob in enumerate(policy[i]):\n",
    "                action_returns.append(act_prob*expected_returns(states[i], action, state_value))\n",
    "            print(action_returns)\n",
    "            best_action = np.argmax(action_returns)\n",
    "            if best_action != chosen_a:\n",
    "                print(f\"best action: {best_action}, chosen action: {chosen_a} in state {states[i]}\")\n",
    "                policy_change_count += 1\n",
    "                policy[i] = np.eye(len(actions))[best_action]\n",
    "                policy_stable = False\n",
    "        print(\"policy change in {} states\".format(policy_change_count))\n",
    "        if policy_stable:\n",
    "            return policy, state_value"
   ]
  },
  {
   "cell_type": "code",
   "execution_count": 13,
   "metadata": {},
   "outputs": [
    {
     "name": "stdout",
     "output_type": "stream",
     "text": [
      "value_change in: 14.666666666666666\n",
      "value_change in: 3.666666666666668\n",
      "value_change in: 0.0\n",
      "[2.7777777777777777, 3.5, 3.5]\n",
      "best action: 1, chosen action: 0 in state (0, 0)\n",
      "[3.25, 5.0, 0.0]\n",
      "best action: 1, chosen action: 0 in state (0, 1)\n",
      "[3.25, 0.0, 5.0]\n",
      "best action: 2, chosen action: 0 in state (1, 0)\n",
      "policy change in 3 states\n",
      "value_change in: 25.0\n",
      "value_change in: 10.0\n",
      "value_change in: 0.0\n",
      "[0.0, 15.0, 0.0]\n",
      "[0.0, 10.0, 0.0]\n",
      "[0.0, 0.0, 10.0]\n",
      "policy change in 0 states\n"
     ]
    }
   ],
   "source": [
    "policy, state_value = policy_iteration()"
   ]
  },
  {
   "cell_type": "code",
   "execution_count": 14,
   "metadata": {},
   "outputs": [],
   "source": [
    "np.save('state_value', state_value)"
   ]
  },
  {
   "cell_type": "code",
   "execution_count": 22,
   "metadata": {},
   "outputs": [
    {
     "data": {
      "text/plain": [
       "array([[0., 1., 0.],\n",
       "       [0., 1., 0.],\n",
       "       [0., 0., 1.],\n",
       "       [0., 0., 0.]])"
      ]
     },
     "execution_count": 22,
     "metadata": {},
     "output_type": "execute_result"
    }
   ],
   "source": [
    "policy"
   ]
  },
  {
   "cell_type": "code",
   "execution_count": 15,
   "metadata": {
    "collapsed": true
   },
   "outputs": [],
   "source": [
    "import matplotlib.pyplot as plt"
   ]
  },
  {
   "cell_type": "code",
   "execution_count": 16,
   "metadata": {},
   "outputs": [],
   "source": [
    "from mpl_toolkits.mplot3d import Axes3D"
   ]
  },
  {
   "cell_type": "code",
   "execution_count": 17,
   "metadata": {
    "scrolled": true
   },
   "outputs": [
    {
     "data": {
      "image/png": "[encoded data removed]",
      "text/plain": [
       "<Figure size 432x288 with 1 Axes>"
      ]
     },
     "metadata": {
      "needs_background": "light"
     },
     "output_type": "display_data"
    }
   ],
   "source": [
    "fig = plt.figure(figsize=(6, 4))\n",
    "ax = fig.add_subplot(111, projection='3d')\n",
    "x = np.arange(2)\n",
    "y = np.arange(2)\n",
    "x, y = np.meshgrid(x, y)\n",
    "z = state_value\n",
    "surface = ax.plot_surface(x, y, z)"
   ]
  },
  {
   "cell_type": "code",
   "execution_count": 35,
   "metadata": {},
   "outputs": [
    {
     "data": {
      "image/png": "[encoded data removed]",
      "text/plain": [
       "<Figure size 432x288 with 2 Axes>"
      ]
     },
     "metadata": {
      "needs_background": "light"
     },
     "output_type": "display_data"
    }
   ],
   "source": [
    "import seaborn as sns\n",
    "fig = sns.heatmap(np.flipud(state_value))"
   ]
  },
  {
   "cell_type": "code",
   "execution_count": 23,
   "metadata": {},
   "outputs": [
    {
     "data": {
      "image/png": "[encoded data removed]",
      "text/plain": [
       "<Figure size 432x288 with 2 Axes>"
      ]
     },
     "metadata": {
      "needs_background": "light"
     },
     "output_type": "display_data"
    }
   ],
   "source": [
    "fig = sns.heatmap(np.flipud(policy))"
   ]
  },
  {
   "cell_type": "code",
   "execution_count": 30,
   "metadata": {},
   "outputs": [
    {
     "data": {
      "text/plain": [
       "[2, 3, 4, 5]"
      ]
     },
     "execution_count": 30,
     "metadata": {},
     "output_type": "execute_result"
    }
   ],
   "source": [
    "y = list(map(lambda x: x + 1, [1, 2, 3, 4]))"
   ]
  },
  {
   "cell_type": "code",
   "execution_count": 33,
   "metadata": {},
   "outputs": [
    {
     "data": {
      "text/plain": [
       "24"
      ]
     },
     "execution_count": 33,
     "metadata": {},
     "output_type": "execute_result"
    }
   ],
   "source": [
    "from functools import reduce\n",
    "y = reduce((lambda x, y: x*y), [1, 2, 3, 4])\n",
    "y"
   ]
  },
  {
   "cell_type": "code",
   "execution_count": 34,
   "metadata": {},
   "outputs": [
    {
     "data": {
      "text/plain": [
       "[-1, -5]"
      ]
     },
     "execution_count": 34,
     "metadata": {},
     "output_type": "execute_result"
    }
   ],
   "source": [
    "y = list(filter(lambda x: x<0, [-1, 2, -5, 3]))\n",
    "y"
   ]
  },
  {
   "cell_type": "code",
   "execution_count": null,
   "metadata": {
    "collapsed": true
   },
   "outputs": [],
   "source": []
  }
 ],
 "metadata": {
  "kernelspec": {
   "display_name": "dppr",
   "language": "python",
   "name": "dppr"
  },
  "language_info": {
   "codemirror_mode": {
    "name": "ipython",
    "version": 3
   },
   "file_extension": ".py",
   "mimetype": "text/x-python",
   "name": "python",
   "nbconvert_exporter": "python",
   "pygments_lexer": "ipython3",
   "version": "3.6.6"
  }
 },
 "nbformat": 4,
 "nbformat_minor": 2
}
